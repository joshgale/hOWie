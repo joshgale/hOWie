{
 "cells": [
  {
   "cell_type": "markdown",
   "metadata": {},
   "source": [
    "# HoWiE Big Bash Predictor\n",
    "\n",
    "The HoWiE Big Bash Predictor is a Logistic Regression Model that aims to predict the outcomes of big bash games. In the notebook we'll step through the code and compare our predictions against the 2017/2018 season before making predictions on the first round of the 2018/2019 season.\n",
    "\n",
    "I've spent the better half of the last month scrapping together data from multiple sources. In the end I sourced the data for the seasons ranging from the beginning of the big bash to the 2017/2018 season from cricsheet.org. The website provides ball by ball data in CSV format which made this model possible. So a big shout out to the owners of the site.\n",
    "\n",
    "Now let's get onto the model!"
   ]
  },
  {
   "cell_type": "markdown",
   "metadata": {},
   "source": [
    "Firstly import the necessary modules and load in our data"
   ]
  },
  {
   "cell_type": "code",
   "execution_count": 1,
   "metadata": {},
   "outputs": [],
   "source": [
    "from feature_creation import *\n",
    "import pandas as pd\n",
    "import seaborn as sns\n",
    "import matplotlib.pyplot as plt\n",
    "plt.style.use('fivethirtyeight')\n",
    "from sklearn import svm, linear_model\n",
    "from sklearn.model_selection import StratifiedKFold, cross_val_score, GridSearchCV\n",
    "from sklearn.preprocessing import StandardScaler\n",
    "from functools import reduce\n",
    "raw_df = pd.read_csv('all_bbl_games_current.csv')\n",
    "odds_df = pd.read_csv('2018_odds.csv')\n",
    "feature_df = pd.read_csv('differential_df.csv').drop('Unnamed: 0', axis = 1)\n"
   ]
  },
  {
   "cell_type": "markdown",
   "metadata": {},
   "source": [
    "To start let's have a look at the game to game data\n"
   ]
  },
  {
   "cell_type": "code",
   "execution_count": 2,
   "metadata": {},
   "outputs": [
    {
     "data": {
      "text/html": [
       "<div>\n",
       "<style scoped>\n",
       "    .dataframe tbody tr th:only-of-type {\n",
       "        vertical-align: middle;\n",
       "    }\n",
       "\n",
       "    .dataframe tbody tr th {\n",
       "        vertical-align: top;\n",
       "    }\n",
       "\n",
       "    .dataframe thead th {\n",
       "        text-align: right;\n",
       "    }\n",
       "</style>\n",
       "<table border=\"1\" class=\"dataframe\">\n",
       "  <thead>\n",
       "    <tr style=\"text-align: right;\">\n",
       "      <th></th>\n",
       "      <th>Unnamed: 0</th>\n",
       "      <th>Match_ID</th>\n",
       "      <th>Date</th>\n",
       "      <th>Team</th>\n",
       "      <th>Opponent</th>\n",
       "      <th>Venue</th>\n",
       "      <th>At_Home</th>\n",
       "      <th>Won_Toss</th>\n",
       "      <th>Batted_First</th>\n",
       "      <th>f_Runs_For</th>\n",
       "      <th>f_Wickets_Lost</th>\n",
       "      <th>f_Overs_Batting</th>\n",
       "      <th>f_Runs_Against</th>\n",
       "      <th>f_Wickets_Taken</th>\n",
       "      <th>f_Overs_Bowled</th>\n",
       "      <th>Result</th>\n",
       "    </tr>\n",
       "  </thead>\n",
       "  <tbody>\n",
       "    <tr>\n",
       "      <th>451</th>\n",
       "      <td>451</td>\n",
       "      <td>231</td>\n",
       "      <td>1/02/2018</td>\n",
       "      <td>Hobart Hurricanes</td>\n",
       "      <td>Perth Scorchers</td>\n",
       "      <td>Optus Stadium</td>\n",
       "      <td>0</td>\n",
       "      <td>0</td>\n",
       "      <td>1</td>\n",
       "      <td>210</td>\n",
       "      <td>4</td>\n",
       "      <td>20.0</td>\n",
       "      <td>139</td>\n",
       "      <td>10</td>\n",
       "      <td>17.5</td>\n",
       "      <td>Hobart Hurricanes</td>\n",
       "    </tr>\n",
       "    <tr>\n",
       "      <th>452</th>\n",
       "      <td>452</td>\n",
       "      <td>232</td>\n",
       "      <td>2/02/2018</td>\n",
       "      <td>Adelaide Strikers</td>\n",
       "      <td>Melbourne Renegades</td>\n",
       "      <td>Adelaide Oval</td>\n",
       "      <td>1</td>\n",
       "      <td>1</td>\n",
       "      <td>1</td>\n",
       "      <td>178</td>\n",
       "      <td>5</td>\n",
       "      <td>20.0</td>\n",
       "      <td>177</td>\n",
       "      <td>4</td>\n",
       "      <td>20.0</td>\n",
       "      <td>Adelaide Strikers</td>\n",
       "    </tr>\n",
       "    <tr>\n",
       "      <th>453</th>\n",
       "      <td>453</td>\n",
       "      <td>232</td>\n",
       "      <td>2/02/2018</td>\n",
       "      <td>Melbourne Renegades</td>\n",
       "      <td>Adelaide Strikers</td>\n",
       "      <td>Adelaide Oval</td>\n",
       "      <td>0</td>\n",
       "      <td>0</td>\n",
       "      <td>0</td>\n",
       "      <td>177</td>\n",
       "      <td>4</td>\n",
       "      <td>20.0</td>\n",
       "      <td>178</td>\n",
       "      <td>5</td>\n",
       "      <td>20.0</td>\n",
       "      <td>Adelaide Strikers</td>\n",
       "    </tr>\n",
       "    <tr>\n",
       "      <th>454</th>\n",
       "      <td>454</td>\n",
       "      <td>233</td>\n",
       "      <td>4/02/2018</td>\n",
       "      <td>Adelaide Strikers</td>\n",
       "      <td>Hobart Hurricanes</td>\n",
       "      <td>Adelaide Oval</td>\n",
       "      <td>1</td>\n",
       "      <td>1</td>\n",
       "      <td>1</td>\n",
       "      <td>202</td>\n",
       "      <td>2</td>\n",
       "      <td>20.0</td>\n",
       "      <td>177</td>\n",
       "      <td>5</td>\n",
       "      <td>20.0</td>\n",
       "      <td>Adelaide Strikers</td>\n",
       "    </tr>\n",
       "    <tr>\n",
       "      <th>455</th>\n",
       "      <td>455</td>\n",
       "      <td>233</td>\n",
       "      <td>4/02/2018</td>\n",
       "      <td>Hobart Hurricanes</td>\n",
       "      <td>Adelaide Strikers</td>\n",
       "      <td>Adelaide Oval</td>\n",
       "      <td>0</td>\n",
       "      <td>0</td>\n",
       "      <td>0</td>\n",
       "      <td>177</td>\n",
       "      <td>5</td>\n",
       "      <td>20.0</td>\n",
       "      <td>202</td>\n",
       "      <td>2</td>\n",
       "      <td>20.0</td>\n",
       "      <td>Adelaide Strikers</td>\n",
       "    </tr>\n",
       "  </tbody>\n",
       "</table>\n",
       "</div>"
      ],
      "text/plain": [
       "     Unnamed: 0  Match_ID       Date                 Team  \\\n",
       "451         451       231  1/02/2018    Hobart Hurricanes   \n",
       "452         452       232  2/02/2018    Adelaide Strikers   \n",
       "453         453       232  2/02/2018  Melbourne Renegades   \n",
       "454         454       233  4/02/2018    Adelaide Strikers   \n",
       "455         455       233  4/02/2018    Hobart Hurricanes   \n",
       "\n",
       "                Opponent          Venue  At_Home  Won_Toss  Batted_First  \\\n",
       "451      Perth Scorchers  Optus Stadium        0         0             1   \n",
       "452  Melbourne Renegades  Adelaide Oval        1         1             1   \n",
       "453    Adelaide Strikers  Adelaide Oval        0         0             0   \n",
       "454    Hobart Hurricanes  Adelaide Oval        1         1             1   \n",
       "455    Adelaide Strikers  Adelaide Oval        0         0             0   \n",
       "\n",
       "     f_Runs_For  f_Wickets_Lost  f_Overs_Batting  f_Runs_Against  \\\n",
       "451         210               4             20.0             139   \n",
       "452         178               5             20.0             177   \n",
       "453         177               4             20.0             178   \n",
       "454         202               2             20.0             177   \n",
       "455         177               5             20.0             202   \n",
       "\n",
       "     f_Wickets_Taken  f_Overs_Bowled             Result  \n",
       "451               10            17.5  Hobart Hurricanes  \n",
       "452                4            20.0  Adelaide Strikers  \n",
       "453                5            20.0  Adelaide Strikers  \n",
       "454                5            20.0  Adelaide Strikers  \n",
       "455                2            20.0  Adelaide Strikers  "
      ]
     },
     "execution_count": 2,
     "metadata": {},
     "output_type": "execute_result"
    }
   ],
   "source": [
    "raw_df.tail()"
   ]
  },
  {
   "cell_type": "markdown",
   "metadata": {},
   "source": [
    "# Looking at our Dataset\n",
    "The main features that we have are runs, wickets and overs. Let's plot these features against the team to see what features reflect our teams."
   ]
  },
  {
   "cell_type": "code",
   "execution_count": 3,
   "metadata": {},
   "outputs": [
    {
     "data": {
      "text/html": [
       "<div>\n",
       "<style scoped>\n",
       "    .dataframe tbody tr th:only-of-type {\n",
       "        vertical-align: middle;\n",
       "    }\n",
       "\n",
       "    .dataframe tbody tr th {\n",
       "        vertical-align: top;\n",
       "    }\n",
       "\n",
       "    .dataframe thead th {\n",
       "        text-align: right;\n",
       "    }\n",
       "</style>\n",
       "<table border=\"1\" class=\"dataframe\">\n",
       "  <thead>\n",
       "    <tr style=\"text-align: right;\">\n",
       "      <th></th>\n",
       "      <th>f_Runs_For</th>\n",
       "      <th>f_Wickets_Lost</th>\n",
       "      <th>f_Overs_Batting</th>\n",
       "      <th>f_Runs_Against</th>\n",
       "      <th>f_Wickets_Taken</th>\n",
       "      <th>f_Overs_Bowled</th>\n",
       "    </tr>\n",
       "    <tr>\n",
       "      <th>Team</th>\n",
       "      <th></th>\n",
       "      <th></th>\n",
       "      <th></th>\n",
       "      <th></th>\n",
       "      <th></th>\n",
       "      <th></th>\n",
       "    </tr>\n",
       "  </thead>\n",
       "  <tbody>\n",
       "    <tr>\n",
       "      <th>Adelaide Strikers</th>\n",
       "      <td>153.428571</td>\n",
       "      <td>6.357143</td>\n",
       "      <td>19.071429</td>\n",
       "      <td>151.571429</td>\n",
       "      <td>6.517857</td>\n",
       "      <td>18.837500</td>\n",
       "    </tr>\n",
       "    <tr>\n",
       "      <th>Brisbane Heat</th>\n",
       "      <td>158.745455</td>\n",
       "      <td>6.581818</td>\n",
       "      <td>18.921818</td>\n",
       "      <td>157.054545</td>\n",
       "      <td>5.672727</td>\n",
       "      <td>18.572727</td>\n",
       "    </tr>\n",
       "    <tr>\n",
       "      <th>Hobart Hurricanes</th>\n",
       "      <td>162.200000</td>\n",
       "      <td>6.290909</td>\n",
       "      <td>19.367273</td>\n",
       "      <td>161.454545</td>\n",
       "      <td>6.036364</td>\n",
       "      <td>18.750909</td>\n",
       "    </tr>\n",
       "    <tr>\n",
       "      <th>Melbourne Renegades</th>\n",
       "      <td>153.298246</td>\n",
       "      <td>5.859649</td>\n",
       "      <td>18.663158</td>\n",
       "      <td>156.842105</td>\n",
       "      <td>6.140351</td>\n",
       "      <td>19.171930</td>\n",
       "    </tr>\n",
       "    <tr>\n",
       "      <th>Melbourne Stars</th>\n",
       "      <td>153.620690</td>\n",
       "      <td>5.879310</td>\n",
       "      <td>18.606897</td>\n",
       "      <td>150.155172</td>\n",
       "      <td>6.155172</td>\n",
       "      <td>18.644828</td>\n",
       "    </tr>\n",
       "    <tr>\n",
       "      <th>Perth Scorchers</th>\n",
       "      <td>150.546875</td>\n",
       "      <td>5.359375</td>\n",
       "      <td>18.498438</td>\n",
       "      <td>143.921875</td>\n",
       "      <td>6.531250</td>\n",
       "      <td>18.695313</td>\n",
       "    </tr>\n",
       "    <tr>\n",
       "      <th>Sydney Sixers</th>\n",
       "      <td>145.948276</td>\n",
       "      <td>6.206897</td>\n",
       "      <td>18.534483</td>\n",
       "      <td>147.896552</td>\n",
       "      <td>5.724138</td>\n",
       "      <td>18.577586</td>\n",
       "    </tr>\n",
       "    <tr>\n",
       "      <th>Sydney Thunder</th>\n",
       "      <td>142.811321</td>\n",
       "      <td>6.226415</td>\n",
       "      <td>18.458491</td>\n",
       "      <td>153.150943</td>\n",
       "      <td>5.773585</td>\n",
       "      <td>18.833962</td>\n",
       "    </tr>\n",
       "  </tbody>\n",
       "</table>\n",
       "</div>"
      ],
      "text/plain": [
       "                     f_Runs_For  f_Wickets_Lost  f_Overs_Batting  \\\n",
       "Team                                                               \n",
       "Adelaide Strikers    153.428571        6.357143        19.071429   \n",
       "Brisbane Heat        158.745455        6.581818        18.921818   \n",
       "Hobart Hurricanes    162.200000        6.290909        19.367273   \n",
       "Melbourne Renegades  153.298246        5.859649        18.663158   \n",
       "Melbourne Stars      153.620690        5.879310        18.606897   \n",
       "Perth Scorchers      150.546875        5.359375        18.498438   \n",
       "Sydney Sixers        145.948276        6.206897        18.534483   \n",
       "Sydney Thunder       142.811321        6.226415        18.458491   \n",
       "\n",
       "                     f_Runs_Against  f_Wickets_Taken  f_Overs_Bowled  \n",
       "Team                                                                  \n",
       "Adelaide Strikers        151.571429         6.517857       18.837500  \n",
       "Brisbane Heat            157.054545         5.672727       18.572727  \n",
       "Hobart Hurricanes        161.454545         6.036364       18.750909  \n",
       "Melbourne Renegades      156.842105         6.140351       19.171930  \n",
       "Melbourne Stars          150.155172         6.155172       18.644828  \n",
       "Perth Scorchers          143.921875         6.531250       18.695313  \n",
       "Sydney Sixers            147.896552         5.724138       18.577586  \n",
       "Sydney Thunder           153.150943         5.773585       18.833962  "
      ]
     },
     "execution_count": 3,
     "metadata": {},
     "output_type": "execute_result"
    }
   ],
   "source": [
    "avg_df = pd.DataFrame()\n",
    "f_names = [col for col in raw_df if col.startswith('f_')]\n",
    "for f_name in f_names:\n",
    "    temp_df = raw_df.groupby('Team')[f_name].mean()\n",
    "    avg_df[f_name] = temp_df\n",
    "avg_df"
   ]
  },
  {
   "cell_type": "markdown",
   "metadata": {},
   "source": [
    "Cool we've got our averages over the entire seasons. We can see that the Hurricanes average the most amount of runs with brisbane heat in a close second and that the perth scorchers average the most amount of wickets in a game.\n",
    "\n",
    "Let's make some plots to better visualise and understand our data.\n",
    "Firstly we'll look at the distribution of runs scored and wickets taken per team over the history of the BBL."
   ]
  },
  {
   "cell_type": "code",
   "execution_count": 4,
   "metadata": {},
   "outputs": [
    {
     "data": {
      "text/plain": [
       "<matplotlib.axes._subplots.AxesSubplot at 0x1b1b192fc50>"
      ]
     },
     "execution_count": 4,
     "metadata": {},
     "output_type": "execute_result"
    },
    {
     "data": {
      "image/png": "[encoded data removed]",
      "text/plain": [
       "<Figure size 1800x720 with 1 Axes>"
      ]
     },
     "metadata": {},
     "output_type": "display_data"
    },
    {
     "data": {
      "image/png": "[encoded data removed]",
      "text/plain": [
       "<Figure size 1800x720 with 1 Axes>"
      ]
     },
     "metadata": {},
     "output_type": "display_data"
    }
   ],
   "source": [
    "plt.subplots(figsize = (25,10))\n",
    "plt.title('Distribution of Runs Scored per Team')\n",
    "sns.boxplot(x = 'Team', y = 'f_Runs_For', data=raw_df)\n",
    "\n",
    "plt.subplots(figsize = (25,10))\n",
    "plt.title('Distribution of Wickets Taken per Team')\n",
    "sns.boxplot(x = 'Team', y = 'f_Wickets_Taken', data=raw_df)\n"
   ]
  },
  {
   "cell_type": "markdown",
   "metadata": {},
   "source": [
    "We can see that a team like Hobart seems to score more runs than a team such as the sydney thunder. If we also look at the wickets taken we can see that sydney thunder also are at the bottom end of the spectrum when it comes to taking wickets. This would lead us to believe that the Sydney Thunder might struggle in the competition.\n",
    "\n",
    "The next thing I want to do is see if there is any correlation between some of our variables. To do this we can use a correlation matrix and wrap it in the sns heatmap function."
   ]
  },
  {
   "cell_type": "code",
   "execution_count": 5,
   "metadata": {},
   "outputs": [
    {
     "data": {
      "image/png": "[encoded data removed]",
      "text/plain": [
       "<Figure size 720x432 with 2 Axes>"
      ]
     },
     "metadata": {},
     "output_type": "display_data"
    }
   ],
   "source": [
    "plt.figure(figsize=(10,6)) #manage the size of the plot\n",
    "sns.heatmap(raw_df.drop(['Match_ID','Unnamed: 0'],axis = 1).corr(),annot=True) #df.corr() makes a correlation matrix and sns.heatmap is used to show the correlations heatmap\n",
    "plt.show()"
   ]
  },
  {
   "cell_type": "markdown",
   "metadata": {},
   "source": [
    "Things can see that that have a strong correllation are the runs to overs. This makes sense... The more overs you bat the more runs you're likely to.\n",
    "\n",
    "The last thing I want to do is generate ELO scores for each of our teams and add this as a feature. If you're unsure what the ELO ranking system is have a quick look on wikipedia: https://en.wikipedia.org/wiki/Elo_rating_system. The system was originally invented to rank chess players but is now widely used on many sports. \n",
    "\n",
    "I have adapted the ELO function from  the Betfair Data scientists. You can find their work on their github here: https://github.com/betfair-datascientists/predictive-models\n",
    "If you were planning on giving ML a go especially with sport these guys have a couple tutorials which will get you underway.\n",
    "\n",
    "Okay now let's generate our ELO scores."
   ]
  },
  {
   "cell_type": "code",
   "execution_count": 6,
   "metadata": {},
   "outputs": [
    {
     "name": "stdout",
     "output_type": "stream",
     "text": [
      "Perth Scorchers 1639.72568598206\n",
      "Adelaide Strikers 1620.8643160075526\n",
      "Sydney Sixers 1524.1519701400643\n",
      "Melbourne Renegades 1504.296849097369\n",
      "Hobart Hurricanes 1482.1173843364754\n",
      "Melbourne Stars 1453.7533317822358\n",
      "Brisbane Heat 1425.6088647671154\n",
      "Sydney Thunder 1414.3592057305902\n"
     ]
    }
   ],
   "source": [
    "elos, probs, elo_dict = elo_applier(raw_df,40,50)\n",
    "\n",
    "for team in sorted(elo_dict,key=elo_dict.get)[::-1]:\n",
    "    print(team, elo_dict[team])"
   ]
  },
  {
   "cell_type": "markdown",
   "metadata": {},
   "source": [
    "Our ELO looks pretty good. We've got the most successful BBL team the Perth Scorchers at the top of the table with the winners of the big bash in second. Down the bottom we have the Sydney Thunder who have statistically been the worst team in the BBL."
   ]
  },
  {
   "cell_type": "markdown",
   "metadata": {},
   "source": [
    "# Predicting the 2017/2018 Seasons\n",
    "Now that we've been introduced to our data let's see if we can make a model that can predict the outcome of the matches in the 2017/2018 season. What we need to do is split our data into training and test data, pick a ML model, tune our model and predict the outcomes.\n",
    "\n",
    "Let's split our data into\n",
    "\n",
    "train: seasons from beginning to 2016/2017\n",
    "\n",
    "test: season 2017:2018\n",
    "\n",
    "and scale it for our model"
   ]
  },
  {
   "cell_type": "code",
   "execution_count": 7,
   "metadata": {},
   "outputs": [],
   "source": [
    "f_col = [col for col in feature_df if col.startswith('f_')]\n",
    "#Create test Dataset\n",
    "test_y = feature_df.loc[181:,'Did_Home_Win']\n",
    "test_x = feature_df.loc[181:, ['Match_ID'] + f_col]\n",
    "#Create train Dataset\n",
    "train_y = feature_df.loc[:181,'Did_Home_Win']\n",
    "train_x= feature_df.loc[:181,['Match_ID'] + f_col]\n",
    "\n",
    "scaler = StandardScaler()\n",
    "test_x[f_col] = scaler.fit_transform(test_x[f_col])\n",
    "train_x[f_col] = scaler.fit_transform(train_x[f_col])"
   ]
  },
  {
   "cell_type": "markdown",
   "metadata": {},
   "source": [
    "Now that we have our training / test split we need to pick a model. I spent a fair bit of time on this and ended up choosing logistic regression for HoWiE. What we should first do is try the logistic regression model without tuning our parameters and see what accuracy we get."
   ]
  },
  {
   "cell_type": "code",
   "execution_count": 8,
   "metadata": {},
   "outputs": [
    {
     "name": "stdout",
     "output_type": "stream",
     "text": [
      "Accuracy without tuning for 2017/2018 season: 57.14%\n"
     ]
    }
   ],
   "source": [
    "model = linear_model.LogisticRegression()\n",
    "model.fit(train_x, train_y)\n",
    "predict = model.predict(test_x)\n",
    "acc = (predict == test_y).mean()*100\n",
    "print(\"Accuracy without tuning for 2017/2018 season: {:.2f}%\".format(acc))"
   ]
  },
  {
   "cell_type": "markdown",
   "metadata": {},
   "source": [
    "Alright! So without tuning our logistic regression model we achieve an accuracy of 57.14%. We're already doing better than a 50/50 guess so we must be doing something right. \n",
    "Now we should tune our model to see if we can improve this accuracy."
   ]
  },
  {
   "cell_type": "code",
   "execution_count": 9,
   "metadata": {},
   "outputs": [
    {
     "name": "stdout",
     "output_type": "stream",
     "text": [
      "{'C': 0.1}\n"
     ]
    }
   ],
   "source": [
    "def log_regression_param_selection(train_x, train_y, nfolds):\n",
    "    Cs = [0.001, 0.01, 0.1, 1 ,10, 100, 1000]\n",
    "    param_grid = {'C': Cs}\n",
    "    \n",
    "    grid_search = GridSearchCV(linear_model.LogisticRegression(), param_grid, cv = nfolds)\n",
    "    grid_search.fit(train_x, train_y)\n",
    "    print(grid_search.best_params_)\n",
    "    return grid_search.best_params_\n",
    "\n",
    "best_params_log = log_regression_param_selection(train_x, train_y,3)"
   ]
  },
  {
   "cell_type": "markdown",
   "metadata": {},
   "source": [
    "Okay so our best C value is 0.1 lets see if this improves our accuracy."
   ]
  },
  {
   "cell_type": "code",
   "execution_count": 10,
   "metadata": {},
   "outputs": [
    {
     "name": "stdout",
     "output_type": "stream",
     "text": [
      "{'C': 0.1}\n",
      "Our accuracy in predicting the 2017/2018 season after tuning is: 61.90%\n"
     ]
    }
   ],
   "source": [
    "best_params_log = log_regression_param_selection(train_x,train_y,3)\n",
    "model = linear_model.LogisticRegression(**best_params_log)\n",
    "model.fit(train_x,train_y)\n",
    "predict = model.predict(test_x)\n",
    "acc = (predict == test_y).mean() * 100\n",
    "print(\"Our accuracy in predicting the 2017/2018 season after tuning is: {:.2f}%\".format(acc))"
   ]
  },
  {
   "cell_type": "markdown",
   "metadata": {},
   "source": [
    "Nice, we've improved our accuracy to 61.9%. Now that we have a model that has been tuned and is predicting 62% of games correctly my inner Aussie is shouting at me to see if we can beat the bookies."
   ]
  },
  {
   "cell_type": "markdown",
   "metadata": {},
   "source": [
    "# Taking on the Bookies\n",
    "To take on the bookies we need to make odds of our own. Luckly the sklearn module gives us a probability funcition we can use."
   ]
  },
  {
   "cell_type": "code",
   "execution_count": 11,
   "metadata": {},
   "outputs": [
    {
     "data": {
      "text/plain": [
       "array([[2.10356446, 1.90615459],\n",
       "       [1.51862396, 2.92817935],\n",
       "       [1.7431356 , 2.34564944],\n",
       "       [1.82554494, 2.2113211 ],\n",
       "       [1.57818488, 2.72955058],\n",
       "       [1.55009291, 2.81787473],\n",
       "       [2.36037716, 1.73509026],\n",
       "       [1.48211522, 3.07419299],\n",
       "       [1.79838549, 2.25252777],\n",
       "       [1.37192841, 3.6886895 ],\n",
       "       [1.47951544, 3.08543859],\n",
       "       [1.96786734, 2.03319945],\n",
       "       [2.4452966 , 1.6918995 ],\n",
       "       [1.96976982, 2.03117254],\n",
       "       [1.68304314, 2.46403638],\n",
       "       [1.40461073, 3.47151133],\n",
       "       [1.69026567, 2.44871757],\n",
       "       [1.84149497, 2.18836123],\n",
       "       [1.62969387, 2.58807326],\n",
       "       [1.58902425, 2.69772296],\n",
       "       [2.48156439, 1.67496223],\n",
       "       [2.39554804, 1.71656437],\n",
       "       [2.40163666, 1.71345166],\n",
       "       [1.47521941, 3.10429115],\n",
       "       [1.79943   , 2.25089126],\n",
       "       [1.87736425, 2.13977747],\n",
       "       [1.65421838, 2.52854158],\n",
       "       [1.49235968, 3.0310355 ],\n",
       "       [1.98988619, 2.01021715],\n",
       "       [2.58439309, 1.6311565 ],\n",
       "       [1.64273812, 2.55584363],\n",
       "       [1.78381192, 2.27581628],\n",
       "       [2.8000161 , 1.55555059],\n",
       "       [1.5488039 , 2.82214447],\n",
       "       [2.59501362, 1.62695389],\n",
       "       [1.82535064, 2.21160625],\n",
       "       [2.01323496, 1.98693792],\n",
       "       [2.21929344, 1.82014711],\n",
       "       [1.65431235, 2.52832206],\n",
       "       [3.10407414, 1.47526842],\n",
       "       [2.36719589, 1.73142408],\n",
       "       [2.37440396, 1.72758812]])"
      ]
     },
     "execution_count": 11,
     "metadata": {},
     "output_type": "execute_result"
    }
   ],
   "source": [
    "x = model.predict_proba(test_x) ** -1\n",
    "x"
   ]
  },
  {
   "cell_type": "markdown",
   "metadata": {},
   "source": [
    "These are our predicted odds. The left hand side is the odds of the away team winning, the home team is the right hand column. The above might be a little confusing so to make it more readable I've created a dataframe of the bookies odds and our odds along with the results from the game. Let's have a look."
   ]
  },
  {
   "cell_type": "code",
   "execution_count": 12,
   "metadata": {},
   "outputs": [
    {
     "data": {
      "text/html": [
       "<div>\n",
       "<style scoped>\n",
       "    .dataframe tbody tr th:only-of-type {\n",
       "        vertical-align: middle;\n",
       "    }\n",
       "\n",
       "    .dataframe tbody tr th {\n",
       "        vertical-align: top;\n",
       "    }\n",
       "\n",
       "    .dataframe thead th {\n",
       "        text-align: right;\n",
       "    }\n",
       "</style>\n",
       "<table border=\"1\" class=\"dataframe\">\n",
       "  <thead>\n",
       "    <tr style=\"text-align: right;\">\n",
       "      <th></th>\n",
       "      <th>Date</th>\n",
       "      <th>Home_Team</th>\n",
       "      <th>Away_Team</th>\n",
       "      <th>Result</th>\n",
       "      <th>Did_Home_Win</th>\n",
       "      <th>Prediction</th>\n",
       "      <th>Home_Odds</th>\n",
       "      <th>Away_Odds</th>\n",
       "      <th>Modelled_Home_Odds</th>\n",
       "      <th>Modelled_Away_Odds</th>\n",
       "    </tr>\n",
       "  </thead>\n",
       "  <tbody>\n",
       "    <tr>\n",
       "      <th>37</th>\n",
       "      <td>27/01/2018</td>\n",
       "      <td>Brisbane Heat</td>\n",
       "      <td>Melbourne Renegades</td>\n",
       "      <td>Melbourne Renegades</td>\n",
       "      <td>0</td>\n",
       "      <td>1</td>\n",
       "      <td>1.65</td>\n",
       "      <td>2.25</td>\n",
       "      <td>1.820147</td>\n",
       "      <td>2.219293</td>\n",
       "    </tr>\n",
       "    <tr>\n",
       "      <th>38</th>\n",
       "      <td>27/01/2018</td>\n",
       "      <td>Melbourne Stars</td>\n",
       "      <td>Hobart Hurricanes</td>\n",
       "      <td>Melbourne Stars</td>\n",
       "      <td>1</td>\n",
       "      <td>0</td>\n",
       "      <td>2.43</td>\n",
       "      <td>1.57</td>\n",
       "      <td>2.528322</td>\n",
       "      <td>1.654312</td>\n",
       "    </tr>\n",
       "    <tr>\n",
       "      <th>39</th>\n",
       "      <td>1/02/2018</td>\n",
       "      <td>Perth Scorchers</td>\n",
       "      <td>Hobart Hurricanes</td>\n",
       "      <td>Hobart Hurricanes</td>\n",
       "      <td>0</td>\n",
       "      <td>1</td>\n",
       "      <td>1.41</td>\n",
       "      <td>2.95</td>\n",
       "      <td>1.475268</td>\n",
       "      <td>3.104074</td>\n",
       "    </tr>\n",
       "    <tr>\n",
       "      <th>40</th>\n",
       "      <td>2/02/2018</td>\n",
       "      <td>Adelaide Strikers</td>\n",
       "      <td>Melbourne Renegades</td>\n",
       "      <td>Adelaide Strikers</td>\n",
       "      <td>1</td>\n",
       "      <td>1</td>\n",
       "      <td>1.79</td>\n",
       "      <td>2.03</td>\n",
       "      <td>1.731424</td>\n",
       "      <td>2.367196</td>\n",
       "    </tr>\n",
       "    <tr>\n",
       "      <th>41</th>\n",
       "      <td>4/02/2018</td>\n",
       "      <td>Adelaide Strikers</td>\n",
       "      <td>Hobart Hurricanes</td>\n",
       "      <td>Adelaide Strikers</td>\n",
       "      <td>1</td>\n",
       "      <td>1</td>\n",
       "      <td>1.84</td>\n",
       "      <td>1.97</td>\n",
       "      <td>1.727588</td>\n",
       "      <td>2.374404</td>\n",
       "    </tr>\n",
       "  </tbody>\n",
       "</table>\n",
       "</div>"
      ],
      "text/plain": [
       "          Date          Home_Team            Away_Team               Result  \\\n",
       "37  27/01/2018      Brisbane Heat  Melbourne Renegades  Melbourne Renegades   \n",
       "38  27/01/2018    Melbourne Stars    Hobart Hurricanes      Melbourne Stars   \n",
       "39   1/02/2018    Perth Scorchers    Hobart Hurricanes    Hobart Hurricanes   \n",
       "40   2/02/2018  Adelaide Strikers  Melbourne Renegades    Adelaide Strikers   \n",
       "41   4/02/2018  Adelaide Strikers    Hobart Hurricanes    Adelaide Strikers   \n",
       "\n",
       "    Did_Home_Win  Prediction  Home_Odds  Away_Odds  Modelled_Home_Odds  \\\n",
       "37             0           1       1.65       2.25            1.820147   \n",
       "38             1           0       2.43       1.57            2.528322   \n",
       "39             0           1       1.41       2.95            1.475268   \n",
       "40             1           1       1.79       2.03            1.731424   \n",
       "41             1           1       1.84       1.97            1.727588   \n",
       "\n",
       "    Modelled_Away_Odds  \n",
       "37            2.219293  \n",
       "38            1.654312  \n",
       "39            3.104074  \n",
       "40            2.367196  \n",
       "41            2.374404  "
      ]
     },
     "execution_count": 12,
     "metadata": {},
     "output_type": "execute_result"
    }
   ],
   "source": [
    "### Review the Model\n",
    "Review_df = feature_df.loc[181:,['Date','Home_Team','Away_Team','Result','Did_Home_Win']]\n",
    "Review_df['Prediction'] = predict\n",
    "Review_df = pd.merge(Review_df, odds_df, on = ['Date', 'Home_Team', 'Away_Team'])\n",
    "Review_df['Modelled_Home_Odds'] = x[:,1]\n",
    "Review_df['Modelled_Away_Odds'] = x[:,0]\n",
    "Review_df.tail()"
   ]
  },
  {
   "cell_type": "markdown",
   "metadata": {},
   "source": [
    "Here we can compare how we went against the actual season. If the Did_Home_Win column matches the Prediction column then we correctly predicted that game. You can also see the odds we calculate vs the odds offered by the bookies for each game.\n",
    "\n",
    "To see if we could make any model off HoWiE I've created a simple betting process. It is as follows:\n",
    "If our predicted odds are < the bookies odds we will make a $50 bet.\n",
    "\n",
    "Let's see how we do."
   ]
  },
  {
   "cell_type": "code",
   "execution_count": 13,
   "metadata": {},
   "outputs": [
    {
     "name": "stdout",
     "output_type": "stream",
     "text": [
      "Money Made: $403.0\n",
      "Money Outlaid: $1600\n"
     ]
    }
   ],
   "source": [
    "#Simple Put $50 On Who I think Will win\n",
    "kitty = []\n",
    "outlay = 0\n",
    "bet = 50\n",
    "for index, row in Review_df.iterrows():\n",
    "\n",
    "    Prediction = row['Prediction']\n",
    "    Did_Home_Win = row['Did_Home_Win']\n",
    "    \n",
    "    if (Prediction == Did_Home_Win):\n",
    "        if(Prediction == 1 and row['Home_Odds'] > row['Modelled_Home_Odds']):\n",
    "            win = row['Home_Odds'] * bet - bet\n",
    "            outlay1 = bet\n",
    "        elif(Prediction == 0 and row['Away_Odds'] > row['Modelled_Away_Odds']):\n",
    "            win = row['Away_Odds'] * bet - bet\n",
    "            outlay1 = bet\n",
    "        else:\n",
    "            continue\n",
    "    elif (Prediction != Did_Home_Win):\n",
    "        if(Prediction == 1 and row['Home_Odds'] > row['Modelled_Home_Odds']):\n",
    "            win = -bet\n",
    "            outlay1 = bet\n",
    "        elif(Prediction == 0 and row['Away_Odds'] > row['Modelled_Away_Odds']):\n",
    "            win = -bet\n",
    "            outlay1 = bet\n",
    "        else:\n",
    "            continue\n",
    "    kitty.append(win)\n",
    "    outlay = outlay+outlay1\n",
    "print(\"Money Made: $\"+ str(sum(kitty)))\n",
    "print(\"Money Outlaid: $\"+ str(outlay))\n"
   ]
  },
  {
   "cell_type": "markdown",
   "metadata": {},
   "source": [
    "We had a positive return! We beat the bookies for the 2017/2018 season. Spending a total of $1600 returned $2003 which equates to a ROI of 25%. Let's plot our winnings trend over the season."
   ]
  },
  {
   "cell_type": "code",
   "execution_count": 14,
   "metadata": {},
   "outputs": [
    {
     "data": {
      "text/plain": [
       "Text(0.5,1,'Money Tally over 2017/2018 Season')"
      ]
     },
     "execution_count": 14,
     "metadata": {},
     "output_type": "execute_result"
    },
    {
     "data": {
      "image/png": "[encoded data removed]",
      "text/plain": [
       "<Figure size 576x576 with 1 Axes>"
      ]
     },
     "metadata": {},
     "output_type": "display_data"
    }
   ],
   "source": [
    "def add_one_by_one(l):\n",
    "    new_l = []\n",
    "    cumsum = 0\n",
    "    for elt in l:\n",
    "        cumsum += elt\n",
    "        new_l.append(cumsum)\n",
    "    return new_l\n",
    "cumsum = add_one_by_one(kitty)\n",
    "\n",
    "plt.subplots(figsize = (8,8))\n",
    "plt.plot(cumsum)\n",
    "plt.ylabel('$')\n",
    "plt.title('Money Tally over 2017/2018 Season')"
   ]
  },
  {
   "cell_type": "markdown",
   "metadata": {},
   "source": [
    "# Tips for Round 1 of 2018/2019 Big Bash\n",
    "Last thing I want to do is load in the 2018/2019 fixture for the Big Bash and make some predictions. The code below essentially reruns everything we've done above but incorporates the 2017/2018 season into our training data and uses the 2018/2019 fixture as the test data."
   ]
  },
  {
   "cell_type": "code",
   "execution_count": 15,
   "metadata": {},
   "outputs": [
    {
     "name": "stdout",
     "output_type": "stream",
     "text": [
      "{'C': 0.1}\n",
      "Overall Accuracy for All Seasons is : 59.375%\n"
     ]
    },
    {
     "name": "stderr",
     "output_type": "stream",
     "text": [
      "C:\\Users\\admin\\Anaconda3\\lib\\site-packages\\pandas\\core\\frame.py:6201: FutureWarning: Sorting because non-concatenation axis is not aligned. A future version\n",
      "of pandas will change to not sort by default.\n",
      "\n",
      "To accept the future behavior, pass 'sort=True'.\n",
      "\n",
      "To retain the current behavior and silence the warning, pass sort=False\n",
      "\n",
      "  sort=sort)\n"
     ]
    }
   ],
   "source": [
    "##Make a Prediction\n",
    "def get_df(path):\n",
    "    df = pd.read_csv(path)\n",
    "    \n",
    "    return df    \n",
    "\n",
    "fixture = get_df('next_week.csv')\n",
    "fixture_list = fixture.Match_ID.tolist()\n",
    "current_df = get_df('all_bbl_games_current.csv')\n",
    "new_df = current_df.append(fixture).reset_index(drop=True)\n",
    "new_df1 = create_features_df(new_df)\n",
    "f_col = [col for col in new_df1 if col.startswith('f_')]\n",
    "train_df = new_df1[~new_df1.Match_ID.isin(fixture.Match_ID)].dropna()\n",
    "train_x = train_df.drop(columns=['Did_Home_Win']).loc[:,f_col]\n",
    "train_y = train_df.Did_Home_Win\n",
    "\n",
    "next_round_x = new_df1[new_df1.Match_ID.isin(fixture.Match_ID)].loc[:,f_col]\n",
    "\n",
    "##\n",
    "#Create test Dataset\n",
    "scaler = StandardScaler()\n",
    "next_round_x[f_col] = scaler.fit_transform(next_round_x[f_col])\n",
    "train_x[f_col] = scaler.fit_transform(train_x[f_col])\n",
    "##\n",
    "best_params_log = log_regression_param_selection(train_x,train_y,3)\n",
    "model = linear_model.LogisticRegression(**best_params_log)\n",
    "model.fit(train_x,train_y)\n",
    "predict = model.predict(next_round_x)\n",
    "score = model.score(train_x,train_y)\n",
    "print('Overall Accuracy for All Seasons is : ' + str(score*100) + '%')\n",
    "x = model.predict_proba(next_round_x) ** -1\n",
    "\n",
    "### Review the Model\n",
    "Review_df = new_df1[new_df1.Match_ID.isin(fixture.Match_ID)].loc[:,['Date','Home_Team','Away_Team']]\n",
    "Review_df['Prediction'] = predict\n",
    "#Review_df = pd.merge(Review_df, odds_df, on = ['Date', 'Home_Team', 'Away_Team'])\n",
    "Review_df['Modelled_Home_Odds'] = x[:,1]\n",
    "Review_df['Modelled_Away_Odds'] = x[:,0]\n"
   ]
  },
  {
   "cell_type": "markdown",
   "metadata": {},
   "source": [
    "Let's Review our predicitons for the first 5 games of the round"
   ]
  },
  {
   "cell_type": "code",
   "execution_count": 16,
   "metadata": {},
   "outputs": [
    {
     "data": {
      "text/html": [
       "<div>\n",
       "<style scoped>\n",
       "    .dataframe tbody tr th:only-of-type {\n",
       "        vertical-align: middle;\n",
       "    }\n",
       "\n",
       "    .dataframe tbody tr th {\n",
       "        vertical-align: top;\n",
       "    }\n",
       "\n",
       "    .dataframe thead th {\n",
       "        text-align: right;\n",
       "    }\n",
       "</style>\n",
       "<table border=\"1\" class=\"dataframe\">\n",
       "  <thead>\n",
       "    <tr style=\"text-align: right;\">\n",
       "      <th></th>\n",
       "      <th>Date</th>\n",
       "      <th>Home_Team</th>\n",
       "      <th>Away_Team</th>\n",
       "      <th>Prediction</th>\n",
       "      <th>Modelled_Home_Odds</th>\n",
       "      <th>Modelled_Away_Odds</th>\n",
       "    </tr>\n",
       "  </thead>\n",
       "  <tbody>\n",
       "    <tr>\n",
       "      <th>228</th>\n",
       "      <td>19/12/2018</td>\n",
       "      <td>Brisbane Heat</td>\n",
       "      <td>Adelaide Strikers</td>\n",
       "      <td>0</td>\n",
       "      <td>2.556347</td>\n",
       "      <td>1.642530</td>\n",
       "    </tr>\n",
       "    <tr>\n",
       "      <th>229</th>\n",
       "      <td>20/12/2018</td>\n",
       "      <td>Melbourne Renegades</td>\n",
       "      <td>Perth Scorchers</td>\n",
       "      <td>0</td>\n",
       "      <td>3.263365</td>\n",
       "      <td>1.441820</td>\n",
       "    </tr>\n",
       "    <tr>\n",
       "      <th>230</th>\n",
       "      <td>21/12/2018</td>\n",
       "      <td>Sydney Thunder</td>\n",
       "      <td>Melbourne Stars</td>\n",
       "      <td>0</td>\n",
       "      <td>2.299748</td>\n",
       "      <td>1.769380</td>\n",
       "    </tr>\n",
       "    <tr>\n",
       "      <th>231</th>\n",
       "      <td>22/12/2018</td>\n",
       "      <td>Sydney Sixers</td>\n",
       "      <td>Perth Scorchers</td>\n",
       "      <td>1</td>\n",
       "      <td>1.750431</td>\n",
       "      <td>2.332567</td>\n",
       "    </tr>\n",
       "    <tr>\n",
       "      <th>232</th>\n",
       "      <td>22/12/2018</td>\n",
       "      <td>Brisbane Heat</td>\n",
       "      <td>Hobart Hurricanes</td>\n",
       "      <td>1</td>\n",
       "      <td>1.507606</td>\n",
       "      <td>2.970033</td>\n",
       "    </tr>\n",
       "  </tbody>\n",
       "</table>\n",
       "</div>"
      ],
      "text/plain": [
       "           Date            Home_Team          Away_Team  Prediction  \\\n",
       "228  19/12/2018        Brisbane Heat  Adelaide Strikers           0   \n",
       "229  20/12/2018  Melbourne Renegades    Perth Scorchers           0   \n",
       "230  21/12/2018       Sydney Thunder    Melbourne Stars           0   \n",
       "231  22/12/2018        Sydney Sixers    Perth Scorchers           1   \n",
       "232  22/12/2018        Brisbane Heat  Hobart Hurricanes           1   \n",
       "\n",
       "     Modelled_Home_Odds  Modelled_Away_Odds  \n",
       "228            2.556347            1.642530  \n",
       "229            3.263365            1.441820  \n",
       "230            2.299748            1.769380  \n",
       "231            1.750431            2.332567  \n",
       "232            1.507606            2.970033  "
      ]
     },
     "execution_count": 16,
     "metadata": {},
     "output_type": "execute_result"
    }
   ],
   "source": [
    "Review_df"
   ]
  },
  {
   "cell_type": "markdown",
   "metadata": {},
   "source": [
    "So from our model we are predicting:\n",
    "\n",
    "1.Adelaide Strikers to beat Brisbane Heat @ $1.64\n",
    "\n",
    "2.Perth Scorchers to beat Melbourne Renegades @ $1.33\n",
    "\n",
    "3.Melbourne Stars to beat Sydney Thunder @ $1.81\n",
    "\n",
    "4.Sydney Sixers to beat Perth Scorchers @ $1.75\n",
    "\n",
    "5.Brisbane Heat to beat Hobart Hurricanes @ $1.42\n",
    "\n"
   ]
  },
  {
   "cell_type": "markdown",
   "metadata": {},
   "source": [
    "# Thanks"
   ]
  },
  {
   "cell_type": "code",
   "execution_count": null,
   "metadata": {},
   "outputs": [],
   "source": []
  }
 ],
 "metadata": {
  "kernelspec": {
   "display_name": "Python 3",
   "language": "python",
   "name": "python3"
  },
  "language_info": {
   "codemirror_mode": {
    "name": "ipython",
    "version": 3
   },
   "file_extension": ".py",
   "mimetype": "text/x-python",
   "name": "python",
   "nbconvert_exporter": "python",
   "pygments_lexer": "ipython3",
   "version": "3.6.5"
  }
 },
 "nbformat": 4,
 "nbformat_minor": 2
}
